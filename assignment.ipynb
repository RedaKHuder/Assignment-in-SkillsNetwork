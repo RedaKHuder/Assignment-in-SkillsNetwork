{
  "metadata": {
    "language_info": {
      "codemirror_mode": {
        "name": "python",
        "version": 3
      },
      "file_extension": ".py",
      "mimetype": "text/x-python",
      "name": "python",
      "nbconvert_exporter": "python",
      "pygments_lexer": "ipython3",
      "version": "3.8"
    },
    "kernelspec": {
      "name": "python",
      "display_name": "Pyolite",
      "language": "python"
    }
  },
  "nbformat_minor": 4,
  "nbformat": 4,
  "cells": [
    {
      "cell_type": "markdown",
      "source": "# My Jupyter Notebook on IBM Watson Studio",
      "metadata": {}
    },
    {
      "cell_type": "markdown",
      "source": "**Reda Alkhuder**\n<br>\nI want to be a data scientist",
      "metadata": {}
    },
    {
      "cell_type": "markdown",
      "source": "*I am intrestid in data sicnce because it is fun\n<br>\nand because I am curious person*",
      "metadata": {}
    },
    {
      "cell_type": "markdown",
      "source": "### the below code gives the output of multiplying nine nine times",
      "metadata": {}
    },
    {
      "cell_type": "code",
      "source": "9*9",
      "metadata": {
        "trusted": true
      },
      "execution_count": 1,
      "outputs": [
        {
          "execution_count": 1,
          "output_type": "execute_result",
          "data": {
            "text/plain": "81"
          },
          "metadata": {}
        }
      ]
    },
    {
      "cell_type": "markdown",
      "source": "- first bullet\n- and the second one.\n<br>\n1. first numberd list\n2. and the second Item\n<br>\n<br>\nlink to google:\n<br>\n\n__[https://www.google.com/]__",
      "metadata": {}
    },
    {
      "cell_type": "code",
      "source": "",
      "metadata": {},
      "execution_count": null,
      "outputs": []
    }
  ]
}